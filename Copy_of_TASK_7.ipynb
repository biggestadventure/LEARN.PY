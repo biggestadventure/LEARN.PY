{
  "nbformat": 4,
  "nbformat_minor": 0,
  "metadata": {
    "colab": {
      "name": "Copy of TASK  7.ipynb",
      "provenance": [],
      "include_colab_link": true
    },
    "kernelspec": {
      "name": "python3",
      "display_name": "Python 3"
    },
    "language_info": {
      "name": "python"
    }
  },
  "cells": [
    {
      "cell_type": "markdown",
      "metadata": {
        "id": "view-in-github",
        "colab_type": "text"
      },
      "source": [
        "<a href=\"https://colab.research.google.com/github/biggestadventure/LEARN.PY/blob/main/Copy_of_TASK_7.ipynb\" target=\"_parent\"><img src=\"https://colab.research.google.com/assets/colab-badge.svg\" alt=\"Open In Colab\"/></a>"
      ]
    },
    {
      "cell_type": "markdown",
      "metadata": {
        "id": "b0V3vwzcydKy"
      },
      "source": [
        "1. Write a program to check whether a  string is palindrome or not using functions. \n",
        "\n",
        "   ( A function is to be created to check whether the string is palindrome and it should give the output true or false to the main program)"
      ]
    },
    {
      "cell_type": "code",
      "metadata": {
        "id": "M2Mi7EOdyxiu"
      },
      "source": [
        "#please enter the code below this line.\n",
        "def isPalindrome(str):\n",
        "  for i in range(0, int(len(str)/2)):\n",
        "    if str[i] != str[len(str)-i-1]:\n",
        "      return False\n",
        "  return True\n",
        "s = \"malayalam\"\n",
        "ans = isPalindrome(s)\n",
        "\n",
        "if (ans):\n",
        "  print(\"Yes\")\n",
        "else:\n",
        "  print(\"No\")  "
      ],
      "execution_count": null,
      "outputs": []
    },
    {
      "cell_type": "markdown",
      "metadata": {
        "id": "vSiShTyOzEz-"
      },
      "source": [
        "2.  Write a menu driven program to find largest element in L, smallest element, avg of all values, sum of all values in L. All these operation should be performed in different functions and the result should be returned.\n",
        "\n",
        "\n",
        "      L=[23,24,11,90,1,41,9,99,28,56,72]"
      ]
    },
    {
      "cell_type": "code",
      "metadata": {
        "id": "fRtMIw_CzsmO",
        "colab": {
          "base_uri": "https://localhost:8080/"
        },
        "outputId": "dfc232a7-978c-4248-8da2-02782f8dc130"
      },
      "source": [
        "#please enter the code below this line.\n",
        "L=[\"23\",\"24\",\"11\",\"90\",\"1\",\"41\",\"9\",\"99\",\"28\",\"56\",\"72\"]\n",
        "def small():\n",
        "  sml=int(L[0])\n",
        "  for i in range(0,11):\n",
        "    if(int(L[i])<sml):\n",
        "      sml=int(L[i])\n",
        "  return sml\n",
        "def sum():\n",
        "  s=int(L[0])\n",
        "  for i in range(1,11):\n",
        "    s=s+int(L[i])\n",
        "  return s\n",
        "\n",
        "def large():\n",
        "  lrg=int(L[0])\n",
        "  for i in range(0,11):\n",
        "    if(int(L[i])>lrg):\n",
        "      lrg=int(L[i])\n",
        "  return lrg\n",
        "def average():\n",
        "  a=sum()\n",
        "  avg=a/11\n",
        "  return avg\n",
        "\n",
        "print(\"1.SUM OF THE LIST\")\n",
        "print(\"2.AVERAGE OF LIST\")\n",
        "print(\"3.SMALLEST AMONG THE LIST\")\n",
        "print(\"4.LARGEST AMONG THE LIST\")\n",
        "b=int(input(\"SELECT THE OPERATION YOU WANT TO CONTINUE\"))        \n",
        "if(b==1):\n",
        "  s=sum()\n",
        "  print(\"SUM=\"+str(s))\n",
        "elif(b==2):\n",
        "  n=average()\n",
        "  print(\"AVERAGE=\"+str(n))\n",
        "elif(b==3):\n",
        "  m=small()\n",
        "  print(\"SMALLEST NUMBER IS=\"+str(m))\n",
        "elif(b==4):\n",
        "  q=large()\n",
        "  print(\"LARGEST NUMBER IS=\"+str(q))\n",
        "else:\n",
        "  print(\"ENTER A VALID CHOICE\")  \n"
      ],
      "execution_count": null,
      "outputs": [
        {
          "output_type": "stream",
          "text": [
            "1.SUM OF THE LIST\n",
            "2.AVERAGE OF LIST\n",
            "3.SMALLEST AMONG THE LIST\n",
            "4.LARGEST AMONG THE LIST\n"
          ],
          "name": "stdout"
        }
      ]
    }
  ]
}