{
  "nbformat": 4,
  "nbformat_minor": 0,
  "metadata": {
    "colab": {
      "name": "Copy of TASK 6.ipynb",
      "provenance": [],
      "include_colab_link": true
    },
    "kernelspec": {
      "name": "python3",
      "display_name": "Python 3"
    },
    "language_info": {
      "name": "python"
    }
  },
  "cells": [
    {
      "cell_type": "markdown",
      "metadata": {
        "id": "view-in-github",
        "colab_type": "text"
      },
      "source": [
        "<a href=\"https://colab.research.google.com/github/biggestadventure/LEARN.PY/blob/main/Copy_of_TASK_6.ipynb\" target=\"_parent\"><img src=\"https://colab.research.google.com/assets/colab-badge.svg\" alt=\"Open In Colab\"/></a>"
      ]
    },
    {
      "cell_type": "markdown",
      "metadata": {
        "id": "2aT_QhgIny6V"
      },
      "source": [
        "1. Write a Python program to find those numbers which are divisible by 7 and multiple of 11, between 1000 and 2000 (both included)."
      ]
    },
    {
      "cell_type": "code",
      "metadata": {
        "id": "KlFG2BFZoEEU",
        "colab": {
          "base_uri": "https://localhost:8080/"
        },
        "outputId": "588dda15-aa17-485d-bd3e-4c43091acfde"
      },
      "source": [
        "#please enter your answer below this line\n",
        "for i in range(1000, 2001) :\n",
        "  if(i%7==0) :\n",
        "    print(i)\n",
        "  elif(i%11==0) :\n",
        "    print(i) "
      ],
      "execution_count": 6,
      "outputs": [
        {
          "output_type": "stream",
          "text": [
            "1001\n",
            "1008\n",
            "1012\n",
            "1015\n",
            "1022\n",
            "1023\n",
            "1029\n",
            "1034\n",
            "1036\n",
            "1043\n",
            "1045\n",
            "1050\n",
            "1056\n",
            "1057\n",
            "1064\n",
            "1067\n",
            "1071\n",
            "1078\n",
            "1085\n",
            "1089\n",
            "1092\n",
            "1099\n",
            "1100\n",
            "1106\n",
            "1111\n",
            "1113\n",
            "1120\n",
            "1122\n",
            "1127\n",
            "1133\n",
            "1134\n",
            "1141\n",
            "1144\n",
            "1148\n",
            "1155\n",
            "1162\n",
            "1166\n",
            "1169\n",
            "1176\n",
            "1177\n",
            "1183\n",
            "1188\n",
            "1190\n",
            "1197\n",
            "1199\n",
            "1204\n",
            "1210\n",
            "1211\n",
            "1218\n",
            "1221\n",
            "1225\n",
            "1232\n",
            "1239\n",
            "1243\n",
            "1246\n",
            "1253\n",
            "1254\n",
            "1260\n",
            "1265\n",
            "1267\n",
            "1274\n",
            "1276\n",
            "1281\n",
            "1287\n",
            "1288\n",
            "1295\n",
            "1298\n",
            "1302\n",
            "1309\n",
            "1316\n",
            "1320\n",
            "1323\n",
            "1330\n",
            "1331\n",
            "1337\n",
            "1342\n",
            "1344\n",
            "1351\n",
            "1353\n",
            "1358\n",
            "1364\n",
            "1365\n",
            "1372\n",
            "1375\n",
            "1379\n",
            "1386\n",
            "1393\n",
            "1397\n",
            "1400\n",
            "1407\n",
            "1408\n",
            "1414\n",
            "1419\n",
            "1421\n",
            "1428\n",
            "1430\n",
            "1435\n",
            "1441\n",
            "1442\n",
            "1449\n",
            "1452\n",
            "1456\n",
            "1463\n",
            "1470\n",
            "1474\n",
            "1477\n",
            "1484\n",
            "1485\n",
            "1491\n",
            "1496\n",
            "1498\n",
            "1505\n",
            "1507\n",
            "1512\n",
            "1518\n",
            "1519\n",
            "1526\n",
            "1529\n",
            "1533\n",
            "1540\n",
            "1547\n",
            "1551\n",
            "1554\n",
            "1561\n",
            "1562\n",
            "1568\n",
            "1573\n",
            "1575\n",
            "1582\n",
            "1584\n",
            "1589\n",
            "1595\n",
            "1596\n",
            "1603\n",
            "1606\n",
            "1610\n",
            "1617\n",
            "1624\n",
            "1628\n",
            "1631\n",
            "1638\n",
            "1639\n",
            "1645\n",
            "1650\n",
            "1652\n",
            "1659\n",
            "1661\n",
            "1666\n",
            "1672\n",
            "1673\n",
            "1680\n",
            "1683\n",
            "1687\n",
            "1694\n",
            "1701\n",
            "1705\n",
            "1708\n",
            "1715\n",
            "1716\n",
            "1722\n",
            "1727\n",
            "1729\n",
            "1736\n",
            "1738\n",
            "1743\n",
            "1749\n",
            "1750\n",
            "1757\n",
            "1760\n",
            "1764\n",
            "1771\n",
            "1778\n",
            "1782\n",
            "1785\n",
            "1792\n",
            "1793\n",
            "1799\n",
            "1804\n",
            "1806\n",
            "1813\n",
            "1815\n",
            "1820\n",
            "1826\n",
            "1827\n",
            "1834\n",
            "1837\n",
            "1841\n",
            "1848\n",
            "1855\n",
            "1859\n",
            "1862\n",
            "1869\n",
            "1870\n",
            "1876\n",
            "1881\n",
            "1883\n",
            "1890\n",
            "1892\n",
            "1897\n",
            "1903\n",
            "1904\n",
            "1911\n",
            "1914\n",
            "1918\n",
            "1925\n",
            "1932\n",
            "1936\n",
            "1939\n",
            "1946\n",
            "1947\n",
            "1953\n",
            "1958\n",
            "1960\n",
            "1967\n",
            "1969\n",
            "1974\n",
            "1980\n",
            "1981\n",
            "1988\n",
            "1991\n",
            "1995\n"
          ],
          "name": "stdout"
        }
      ]
    },
    {
      "cell_type": "markdown",
      "metadata": {
        "id": "ZesHXUMboLu7"
      },
      "source": [
        "2. Write a program to print this pattern\n",
        "\n",
        "           #\n",
        "          ## \n",
        "         ###"
      ]
    },
    {
      "cell_type": "code",
      "metadata": {
        "id": "64-aUjWbohqz",
        "colab": {
          "base_uri": "https://localhost:8080/"
        },
        "outputId": "7a757974-4f1c-49c2-919a-c1c8e3729e6b"
      },
      "source": [
        "#please enter your answer below this line\n",
        "n=3\n",
        "k=n*2\n",
        "for i in range(0, n):\n",
        "  for j in range(0, n) :\n",
        "    print(end=\"\")\n",
        "  k=k-2\n",
        "  for j in range (0, i+1) :\n",
        "    print(\"#\", end=\"\")\n",
        "  print(\"\\r\")    "
      ],
      "execution_count": 8,
      "outputs": [
        {
          "output_type": "stream",
          "text": [
            "#\r\n",
            "##\r\n",
            "###\r\n"
          ],
          "name": "stdout"
        }
      ]
    },
    {
      "cell_type": "markdown",
      "metadata": {
        "id": "6ZepaaI-ow6W"
      },
      "source": [
        "3. list=[apple, orange, apple, banana]\n",
        ". Replace all the apple in the list with grapes using for loop"
      ]
    },
    {
      "cell_type": "code",
      "metadata": {
        "id": "D7UOyf_6o6Ax",
        "colab": {
          "base_uri": "https://localhost:8080/"
        },
        "outputId": "b08529d1-2502-41ca-fdf2-a642db44b11e"
      },
      "source": [
        "#please enter your answer below this line\n",
        "lis=[\"apple\", \"orange\", \"apple\", \"banana\"]\n",
        "for i in range(0, 4) :\n",
        "  if(lis[i]==\"apple\") :\n",
        "    lis[i]=\"grapes\"\n",
        "print(lis)    "
      ],
      "execution_count": 9,
      "outputs": [
        {
          "output_type": "stream",
          "text": [
            "['grapes', 'orange', 'grapes', 'banana']\n"
          ],
          "name": "stdout"
        }
      ]
    }
  ]
}